{
 "cells": [
  {
   "cell_type": "code",
   "execution_count": 1,
   "id": "9f07301d",
   "metadata": {},
   "outputs": [],
   "source": [
    "from langgraph.graph import StateGraph , START ,END\n",
    "from langgraph.checkpoint.memory import InMemorySaver\n",
    "from typing import TypedDict\n",
    "import time"
   ]
  },
  {
   "cell_type": "code",
   "execution_count": 2,
   "id": "866ebacb",
   "metadata": {},
   "outputs": [],
   "source": [
    "class CrashState(TypedDict):\n",
    "    input: str\n",
    "    step1: str\n",
    "    step2: str\n",
    "    step3: str\n",
    "    "
   ]
  },
  {
   "cell_type": "code",
   "execution_count": 3,
   "id": "3dd4eea8",
   "metadata": {},
   "outputs": [],
   "source": [
    "def step_1(state: CrashState):\n",
    "    print(\"step 1\")\n",
    "    return {\"step1\":\"done\"}\n",
    "def step_2(state: CrashState):\n",
    "    print(\"step 2\")\n",
    "    time.sleep(10)\n",
    "    return {\"step2\":\"done\"}\n",
    "\n",
    "def step_3(state: CrashState):\n",
    "    print(\"step 3\")\n",
    "    return {\"step3\":\"done\"}"
   ]
  },
  {
   "cell_type": "code",
   "execution_count": 4,
   "id": "4137ec5d",
   "metadata": {},
   "outputs": [],
   "source": [
    "builder = StateGraph(CrashState)\n",
    "\n",
    "builder.add_node(\"step_1\",step_1)\n",
    "builder.add_node(\"step_2\",step_2)\n",
    "builder.add_node(\"step_3\",step_3)\n",
    "\n",
    "\n",
    "builder.add_edge(START,\"step_1\")\n",
    "builder.add_edge(\"step_1\",\"step_2\")\n",
    "builder.add_edge(\"step_2\",\"step_3\")\n",
    "builder.add_edge(\"step_3\",END)  \n",
    "\n",
    "checkpointer = InMemorySaver()\n",
    "graph = builder.compile(checkpointer=checkpointer)\n"
   ]
  },
  {
   "cell_type": "code",
   "execution_count": 7,
   "id": "cab644ac",
   "metadata": {},
   "outputs": [
    {
     "data": {
      "image/png": "[encoded data removed]",
      "text/plain": [
       "<langgraph.graph.state.CompiledStateGraph object at 0x00000200C9727490>"
      ]
     },
     "execution_count": 7,
     "metadata": {},
     "output_type": "execute_result"
    }
   ],
   "source": [
    "graph"
   ]
  },
  {
   "cell_type": "code",
   "execution_count": 9,
   "id": "3956a844",
   "metadata": {},
   "outputs": [
    {
     "name": "stdout",
     "output_type": "stream",
     "text": [
      "Running graph\n",
      "step 1\n",
      "step 2\n",
      "Interrupted\n"
     ]
    }
   ],
   "source": [
    "try:\n",
    "    print(\"Running graph\")\n",
    "    graph.invoke({\"input\":\"start\"},config = {\"configurable\":{\"thread_id\":1}})\n",
    "except KeyboardInterrupt:\n",
    "    print(\"Interrupted\")\n",
    "    "
   ]
  },
  {
   "cell_type": "code",
   "execution_count": 10,
   "id": "fbb8f8e0",
   "metadata": {},
   "outputs": [
    {
     "name": "stdout",
     "output_type": "stream",
     "text": [
      "step 2\n",
      "step 3\n",
      "{'input': 'start', 'step1': 'done', 'step2': 'done', 'step3': 'done'}\n"
     ]
    }
   ],
   "source": [
    "final = graph.invoke(None,config = {\"configurable\":{\"thread_id\":1}})\n",
    "print(final)"
   ]
  },
  {
   "cell_type": "code",
   "execution_count": null,
   "id": "afc89578",
   "metadata": {},
   "outputs": [],
   "source": []
  }
 ],
 "metadata": {
  "kernelspec": {
   "display_name": "myenv",
   "language": "python",
   "name": "python3"
  },
  "language_info": {
   "codemirror_mode": {
    "name": "ipython",
    "version": 3
   },
   "file_extension": ".py",
   "mimetype": "text/x-python",
   "name": "python",
   "nbconvert_exporter": "python",
   "pygments_lexer": "ipython3",
   "version": "3.10.0"
  }
 },
 "nbformat": 4,
 "nbformat_minor": 5
}
