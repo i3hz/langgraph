{
 "cells": [
  {
   "cell_type": "code",
   "execution_count": 22,
   "id": "b6ec5dab",
   "metadata": {},
   "outputs": [],
   "source": [
    "from langgraph.graph import StateGraph , START , END\n",
    "from typing import TypedDict , Literal"
   ]
  },
  {
   "cell_type": "code",
   "execution_count": 23,
   "id": "32d14916",
   "metadata": {},
   "outputs": [],
   "source": [
    "class QuadraticState(TypedDict):\n",
    "    a:int \n",
    "    b: int\n",
    "    c:int\n",
    "    \n",
    "    equation:str\n",
    "    discriminant:float\n",
    "    result:str"
   ]
  },
  {
   "cell_type": "code",
   "execution_count": 24,
   "id": "56ba0954",
   "metadata": {},
   "outputs": [],
   "source": [
    "def show_equation(state: QuadraticState):\n",
    "\n",
    "    equation = f'{state[\"a\"]}x2{state[\"b\"]}x{state[\"c\"]}'\n",
    "\n",
    "    return {'equation':equation}\n",
    "\n",
    "def calculate_discriminant(state: QuadraticState):\n",
    "\n",
    "    discriminant = state[\"b\"]**2 - (4*state[\"a\"]*state[\"c\"])\n",
    "\n",
    "    return {'discriminant': discriminant}\n",
    "\n",
    "def real_roots(state: QuadraticState):\n",
    "\n",
    "    root1 = (-state[\"b\"] + state[\"discriminant\"]**0.5)/(2*state[\"a\"])\n",
    "    root2 = (-state[\"b\"] - state[\"discriminant\"]**0.5)/(2*state[\"a\"])\n",
    "\n",
    "    result = f'The roots are {root1} and {root2}'\n",
    "\n",
    "    return {'result': result}\n",
    "\n",
    "def repeated_roots(state: QuadraticState):\n",
    "\n",
    "    root = (-state[\"b\"])/(2*state[\"a\"])\n",
    "\n",
    "    result = f'Only repeating root is {root}'\n",
    "\n",
    "    return {'result': result}\n",
    "\n",
    "def no_real_roots(state: QuadraticState):\n",
    "\n",
    "    result = f'No real roots'\n",
    "\n",
    "    return {'result': result}\n",
    "\n",
    "def check_condition(state: QuadraticState) -> Literal[\"real_roots\", \"repeated_roots\", \"no_real_roots\"]:\n",
    "\n",
    "    if state['discriminant'] > 0:\n",
    "        return \"real_roots\"\n",
    "    elif state['discriminant'] == 0:\n",
    "        return \"repeated_roots\"\n",
    "    else:\n",
    "        return \"no_real_roots\""
   ]
  },
  {
   "cell_type": "code",
   "execution_count": 25,
   "id": "26b31d17",
   "metadata": {},
   "outputs": [],
   "source": [
    "def show_equation(state:QuadraticState):\n",
    "    equation  = f\"{state['a']}x2 + {state['b']}x + {state['c']}\"\n",
    "    return {'equation':equation}"
   ]
  },
  {
   "cell_type": "code",
   "execution_count": 26,
   "id": "d0974419",
   "metadata": {},
   "outputs": [],
   "source": [
    "def calculate_discriminant(state:QuadraticState):\n",
    "    discriminant = state['b']**2 - 4*state['a']*state['c']\n",
    "    return {'discriminant':discriminant}"
   ]
  },
  {
   "cell_type": "code",
   "execution_count": 27,
   "id": "bba58d41",
   "metadata": {},
   "outputs": [],
   "source": [
    "\n",
    "\n",
    "graph = StateGraph(QuadraticState)\n",
    "\n",
    "graph.add_node('show_equation', show_equation)\n",
    "graph.add_node('calculate_discriminant', calculate_discriminant)\n",
    "graph.add_node('real_roots', real_roots)\n",
    "graph.add_node('repeated_roots', repeated_roots)\n",
    "graph.add_node('no_real_roots', no_real_roots)\n",
    "\n",
    "\n",
    "graph.add_edge(START, 'show_equation')\n",
    "graph.add_edge('show_equation', 'calculate_discriminant')\n",
    "\n",
    "graph.add_conditional_edges('calculate_discriminant', check_condition)\n",
    "graph.add_edge('real_roots', END)\n",
    "graph.add_edge('repeated_roots', END)\n",
    "graph.add_edge('no_real_roots', END)\n",
    "\n",
    "workflow = graph.compile()\n",
    "\n"
   ]
  },
  {
   "cell_type": "code",
   "execution_count": 29,
   "id": "313969ae",
   "metadata": {},
   "outputs": [
    {
     "data": {
      "text/plain": [
       "{'a': 1,\n",
       " 'b': -5,\n",
       " 'c': 4,\n",
       " 'equation': '1x2 + -5x + 4',\n",
       " 'discriminant': 9,\n",
       " 'result': 'The roots are 4.0 and 1.0'}"
      ]
     },
     "execution_count": 29,
     "metadata": {},
     "output_type": "execute_result"
    }
   ],
   "source": [
    "initial_state = {'a':1,'b':-5,'c':4}\n",
    "\n",
    "final = workflow.invoke(initial_state)\n",
    "final"
   ]
  },
  {
   "cell_type": "code",
   "execution_count": null,
   "id": "b8f9cdd3",
   "metadata": {},
   "outputs": [],
   "source": []
  }
 ],
 "metadata": {
  "kernelspec": {
   "display_name": "myenv",
   "language": "python",
   "name": "python3"
  },
  "language_info": {
   "codemirror_mode": {
    "name": "ipython",
    "version": 3
   },
   "file_extension": ".py",
   "mimetype": "text/x-python",
   "name": "python",
   "nbconvert_exporter": "python",
   "pygments_lexer": "ipython3",
   "version": "3.10.0"
  }
 },
 "nbformat": 4,
 "nbformat_minor": 5
}
