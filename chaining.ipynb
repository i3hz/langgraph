{
 "cells": [
  {
   "cell_type": "code",
   "execution_count": 14,
   "id": "655d4849",
   "metadata": {},
   "outputs": [
    {
     "data": {
      "text/plain": [
       "True"
      ]
     },
     "execution_count": 14,
     "metadata": {},
     "output_type": "execute_result"
    }
   ],
   "source": [
    "from langgraph.graph import StateGraph,START,END\n",
    "from langchain_google_genai import ChatGoogleGenerativeAI\n",
    "from typing import Any, TypedDict\n",
    "from dotenv import load_dotenv\n",
    "load_dotenv()"
   ]
  },
  {
   "cell_type": "code",
   "execution_count": 15,
   "id": "cd22fea8",
   "metadata": {},
   "outputs": [],
   "source": [
    "model = ChatGoogleGenerativeAI(model=\"gemini-2.5-flash\") # Specify the model here\n"
   ]
  },
  {
   "cell_type": "code",
   "execution_count": 16,
   "id": "7bd899e5",
   "metadata": {},
   "outputs": [],
   "source": [
    "class BlogState(TypedDict):\n",
    "    title : str\n",
    "    outline : str\n",
    "    content : str\n",
    "    evaluation : str"
   ]
  },
  {
   "cell_type": "code",
   "execution_count": 17,
   "id": "68d1cfa5",
   "metadata": {},
   "outputs": [],
   "source": [
    "def create_outline(state: BlogState) -> BlogState:\n",
    "    title = state[\"title\"]\n",
    "    prompt = f\"Create a detailed outline for a blog post titled '{title}'.\"\n",
    "    response = model.invoke(prompt)\n",
    "    state[\"outline\"] = response.content\n",
    "    return state"
   ]
  },
  {
   "cell_type": "code",
   "execution_count": 18,
   "id": "5b016631",
   "metadata": {},
   "outputs": [],
   "source": [
    "def create_blog_content(state: BlogState) -> BlogState:\n",
    "    outline = state[\"outline\"]\n",
    "    prompt = f\"Write a detailed blog post based on the following outline:\\n{outline}\"\n",
    "    response = model.invoke(prompt)\n",
    "    state[\"content\"] = response.content\n",
    "    return state"
   ]
  },
  {
   "cell_type": "code",
   "execution_count": 19,
   "id": "be087d88",
   "metadata": {},
   "outputs": [],
   "source": [
    "def evaluate_content(state: BlogState) -> BlogState:\n",
    "    content = state[\"content\"]\n",
    "    prompt = f\"Evaluate the following blog content for clarity and engagement:\\n{content}\"\n",
    "    response = model.invoke(prompt)\n",
    "    state[\"evaluation\"] = response.content\n",
    "    return state"
   ]
  },
  {
   "cell_type": "code",
   "execution_count": 20,
   "id": "34e19aeb",
   "metadata": {},
   "outputs": [],
   "source": [
    "graph = StateGraph(BlogState)\n",
    "graph.add_node('create_outline',create_outline)\n",
    "graph.add_node('create_blog_content',create_blog_content)\n",
    "graph.add_node('evaluate_content',evaluate_content)\n",
    "\n",
    "graph.add_edge(START,'create_outline')\n",
    "graph.add_edge('create_outline','create_blog_content')\n",
    "graph.add_edge('create_blog_content','evaluate_content')\n",
    "graph.add_edge('evaluate_content',END)\n",
    "workflow = graph.compile()"
   ]
  },
  {
   "cell_type": "code",
   "execution_count": 21,
   "id": "488661ff",
   "metadata": {},
   "outputs": [
    {
     "name": "stdout",
     "output_type": "stream",
     "text": [
      "## The Future of AI in Everyday Life: Beyond the Hype, Into Your Home and Hand\n",
      "\n",
      "Remember when voice assistants felt like magic, a futuristic whisper in your living room? That was just the prelude. Artificial intelligence isn't merely a concept confined to sci-fi movies or the labs of tech giants anymore; it's already a quiet architect of our present, and it's poised to redefine the very fabric of our future. We're on the cusp of a revolution, not of robots taking over, but of intelligent systems seamlessly weaving into the tapestry of our daily routines.\n",
      "\n",
      "But what exactly *is* AI? For the layman, think of it as a set of technologies that enable machines to perform tasks that typically require human intelligence. This includes learning from data, reasoning, understanding language, recognizing patterns, and solving problems – often at a scale and speed that humans simply cannot match. It’s not just about crunching numbers; it’s about making sense of the world, making predictions, and assisting us in increasingly sophisticated ways.\n",
      "\n",
      "The truth is, AI is poised to become an invisible, yet indispensable, layer in our everyday lives, transforming everything from how we work and learn to how we manage our health and homes. This integration will bring unprecedented convenience and open doors to incredible possibilities, but it will also introduce new challenges that demand our thoughtful consideration. In this post, we'll explore how AI is already shaping our world, where it's headed, the exciting benefits it promises, the critical challenges we must address, and how we can collectively navigate this fascinating, AI-powered future.\n",
      "\n",
      "### AI Today: A Glimpse of What's Already Here\n",
      "\n",
      "Before we peer into tomorrow, let's acknowledge that AI isn't some distant dream; it's already an active participant in our daily lives, often without us even realizing it.\n",
      "\n",
      "*   **Voice Assistants:** From setting alarms and playing music to controlling smart home devices, Siri, Alexa, and Google Assistant have become household names, making natural language interaction with technology a commonplace convenience.\n",
      "*   **Recommendation Engines:** Every time Netflix suggests your next binge-watch, Spotify curates a playlist, or Amazon nudges you towards a product you might like, AI is at work. These algorithms analyze vast amounts of data about your preferences and behavior to personalize your experience.\n",
      "*   **Navigation Apps:** Google Maps and Waze don't just show you a route; they use AI to process real-time traffic data, accidents, and road closures to find the optimal path, saving you time and frustration.\n",
      "*   **Facial Recognition:** Unlocking your smartphone, tagging friends in photos, or enhancing security systems – facial recognition, a powerful application of AI, has become a ubiquitous feature.\n",
      "*   **Early Self-Driving Tech:** While fully autonomous vehicles are still evolving, features like adaptive cruise control, lane-keeping assist, and automated parking are early manifestations of AI in our cars, making driving safer and more convenient.\n",
      "*   **Generative AI:** The recent explosion of tools like ChatGPT for text creation and Midjourney for image generation has brought AI's creative capabilities into the mainstream, allowing anyone to generate sophisticated content with simple prompts.\n",
      "\n",
      "This \"invisible\" nature of AI is key. Much of its power lies in its ability to operate seamlessly in the background, enhancing our digital and physical environments without demanding our explicit attention. This sets the stage for even deeper, more pervasive integration in the years to come.\n",
      "\n",
      "### The Seamless Integration: Where AI Will Live Tomorrow\n",
      "\n",
      "Imagine a world where technology doesn't just respond to your commands but anticipates your needs, a world where your environment adapts to you. This is the promise of AI's deeper integration.\n",
      "\n",
      "#### The Smart Home & Personal Living\n",
      "\n",
      "Your home will transform into an intuitive ecosystem. Proactive AI assistants will go beyond simple commands, learning your routines and preferences to adjust the thermostat before you arrive home, order groceries when supplies run low, or even suggest recipes based on what's in your fridge. Personalized wellness will thrive with AI-powered sleep trackers offering in-depth analysis and smart mirrors analyzing your skin health. Robotic companions, from advanced cleaning robots to social robots for the elderly or children, will become common. Furthermore, AI will optimize home energy consumption based on weather patterns, occupancy, and grid demand, leading to significant savings and environmental benefits.\n",
      "\n",
      "#### Health & Medical Care\n",
      "\n",
      "AI will revolutionize healthcare, shifting the focus dramatically towards prevention and personalization. Wearables equipped with AI will continuously monitor vital signs, diagnosing early signs of disease before symptoms even appear. AI will analyze individual genetic data to tailor treatments and drug dosages, ushering in an era of truly personalized medicine. Mental health support will see AI chatbots offering therapy and mood tracking, while AI in elderly care will provide continuous monitoring, companionship, fall detection, and crucial medication reminders, allowing seniors to live more independently.\n",
      "\n",
      "#### Work, Education & Productivity\n",
      "\n",
      "Rather than replacing human roles, AI will act as a powerful augmenter of intelligence. It will assist with creative tasks, perform complex data analysis, and generate reports, freeing up human time for higher-value, strategic work. Education will become profoundly personalized, with adaptive platforms tailoring content and pace to individual students, while AI tutors provide instant, customized support. Mundane tasks like scheduling, email sorting, and data entry will be automated, allowing us to focus on innovation and connection. This will, of course, transform job markets, leading to the emergence of new roles that require human-AI collaboration.\n",
      "\n",
      "#### Transportation & Smart Cities\n",
      "\n",
      "The dream of fully autonomous vehicles – cars, public transport, and delivery drones – will revolutionize commuting and logistics. Intelligent traffic management systems, powered by AI, will optimize traffic flow in real-time, drastically reducing congestion and pollution in urban centers. Smart infrastructure will see AI monitoring bridges, roads, and utilities for maintenance needs, while optimizing waste management and enhancing public safety through predictive analytics.\n",
      "\n",
      "#### Entertainment & Creativity\n",
      "\n",
      "Our entertainment experiences will become hyper-personalized. AI will curate news feeds, music playlists, and movie suggestions based on the most subtle shifts in our preferences. Interactive entertainment will leap forward with AI-powered NPCs (non-player characters) in games that learn and adapt, and adaptive storylines in movies or books that respond to viewer choices. AI will also become a creative partner, assisting artists, musicians, and writers in generating new ideas, refining compositions, or completing tasks that would otherwise be time-consuming.\n",
      "\n",
      "### The Promise: Benefits of an AI-Driven Future\n",
      "\n",
      "The integration of AI into everyday life holds the potential for transformative benefits that can significantly improve human well-being and societal progress.\n",
      "\n",
      "*   **Unprecedented Convenience & Efficiency:** Imagine having more free time because routine tasks are automated, from managing your calendar to optimizing your commute. AI will reduce cognitive load, allowing us to focus on what truly matters.\n",
      "*   **Improved Quality of Life:** Better health outcomes through preventative care, enhanced safety in our homes and on the roads, and greater accessibility for people with disabilities are just a few ways AI can elevate our living standards.\n",
      "*   **Economic Growth & Innovation:** AI will spur the creation of entirely new industries, generate novel jobs, and provide powerful tools to address some of the world's most complex problems, from disease eradication to sustainable energy.\n",
      "*   **Enhanced Personalization:** From educational experiences tailored to individual learning styles to entertainment that perfectly matches your mood, AI will deliver experiences uniquely crafted for each person.\n",
      "*   **Solutions to Global Challenges:** AI's analytical power can accelerate climate change research, optimize resource management, predict and respond to natural disasters more effectively, and contribute to achieving sustainable development goals.\n",
      "\n",
      "### The Perils: Challenges and Ethical Considerations\n",
      "\n",
      "While the promise of AI is immense, we must approach its integration with a clear understanding of the significant challenges and ethical dilemmas it presents. Ignoring these issues would be a disservice to our future.\n",
      "\n",
      "*   **Job Displacement & Workforce Transformation:** As AI automates routine tasks, many existing jobs will be impacted. We face the critical need for massive reskilling initiatives and the exploration of new economic models to support a changing workforce.\n",
      "*   **Privacy & Data Security:** The vast amounts of personal data AI will collect – from health metrics to purchasing habits – raise profound concerns about privacy. Ensuring robust data security and preventing misuse or breaches will be paramount.\n",
      "*   **Algorithmic Bias & Fairness:** AI models are trained on existing data, which often reflects societal biases. If not carefully managed, these algorithms can perpetuate or even amplify discrimination in areas like hiring, lending, or criminal justice.\n",
      "*   **Ethical Dilemmas:** Who is accountable when an autonomous AI system makes a mistake? What are the implications of autonomous weapons? How will human-AI relationships evolve, and what are the boundaries? These are complex questions with no easy answers.\n",
      "*   **Over-Reliance & Loss of Human Skills:** As AI takes over more cognitive tasks, there's a risk of diminishing critical thinking, problem-solving abilities, or practical skills in humans if we become overly reliant on machines.\n",
      "*   **The Digital Divide:** Ensuring equitable access to AI's benefits is crucial. Without conscious effort, advanced AI tools could exacerbate existing inequalities, creating a deeper divide between those who can leverage these technologies and those who cannot.\n",
      "\n",
      "### Navigating the Future: Preparing for an AI-Powered World\n",
      "\n",
      "The future isn't just happening to us; we are actively building it. Navigating an AI-powered world successfully requires proactive engagement from individuals, institutions, and governments.\n",
      "\n",
      "*   **Education & Lifelong Learning:** The emphasis must shift towards skills that complement AI – creativity, critical thinking, emotional intelligence, complex problem-solving, and adaptability. Lifelong learning will become not just an option, but a necessity, as job roles evolve.\n",
      "*   **Ethical Frameworks & Regulation:** Developing robust ethical guidelines, industry standards, and effective regulatory policies for AI development and deployment is crucial. These frameworks must ensure transparency, accountability, and fairness.\n",
      "*   **Focus on Human-AI Collaboration:** We must reframe the narrative from AI \"replacing\" humans to AI \"augmenting\" human capabilities. The most powerful future lies in synergistic collaboration, where humans and AI each do what they do best.\n",
      "*   **Public Discourse & Awareness:** Fostering informed and open conversations about AI's impact is vital. Educating the general public about both its potential and its risks will empower individuals to make informed decisions and advocate for responsible development.\n",
      "*   **Prioritizing Human Values:** Ultimately, AI must be developed and used in ways that align with human well-being, societal good, and our core values. We must consciously design AI to serve humanity, not the other way around.\n",
      "\n",
      "### Conclusion: Shaping Our AI Tomorrow\n",
      "\n",
      "The integration of artificial intelligence into our everyday lives is not a matter of \"if,\" but \"when\" and \"how.\" It is an inevitable and transformative force that promises to reshape nearly every aspect of our existence, offering unprecedented convenience, health benefits, and solutions to global challenges.\n",
      "\n",
      "Yet, this future is not predetermined. It is a product of the choices we make today – the research we fund, the policies we enact, the ethical considerations we prioritize, and the skills we cultivate. The journey ahead is a delicate balance of embracing innovation while diligently safeguarding human values and addressing potential pitfalls.\n",
      "\n",
      "The future isn't just happening to us; we're building it. What kind of AI-powered everyday life do we want to create? Let us stay informed, engage in these vital discussions, and advocate for responsible AI development, ensuring that this powerful technology serves as a tool for human flourishing. With conscious effort and collective wisdom, we can guide AI towards a future that is not only intelligent but also equitable, ethical, and profoundly beneficial for all.\n"
     ]
    }
   ],
   "source": [
    "initial_state = {\"title\": \"The Future of AI in Everyday Life\"}\n",
    "final_state = workflow.invoke(initial_state)\n",
    "print(final_state[\"content\"])"
   ]
  },
  {
   "cell_type": "code",
   "execution_count": 23,
   "id": "b98d10e3",
   "metadata": {},
   "outputs": [
    {
     "name": "stdout",
     "output_type": "stream",
     "text": [
      "This blog content is exceptionally well-written, demonstrating strong clarity and engagement throughout.\n",
      "\n",
      "Here's a detailed evaluation:\n",
      "\n",
      "## Evaluation of \"The Future of AI in Everyday Life: Beyond the Hype, Into Your Home and Hand\"\n",
      "\n",
      "### Clarity\n",
      "\n",
      "The blog post excels in clarity, making a complex topic accessible to a general audience.\n",
      "\n",
      "1.  **Clear Introduction and Definition:** The opening paragraph hooks the reader with a relatable experience (voice assistants) and quickly moves to a concise, layman's definition of AI. It avoids jargon and sets the stage for practical applications.\n",
      "2.  **Logical Structure:** The post follows a highly logical and easy-to-follow structure:\n",
      "    *   **Introduction:** Hook, definition, roadmap.\n",
      "    *   **AI Today:** Present-day examples.\n",
      "    *   **Seamless Integration:** Future applications categorized by domain (Home, Health, Work, Transport, Entertainment).\n",
      "    *   **Benefits:** Positive impacts.\n",
      "    *   **Challenges:** Potential downsides and ethical considerations.\n",
      "    *   **Navigation:** How to prepare and respond.\n",
      "    *   **Conclusion:** Summary and call to action.\n",
      "    This clear progression helps the reader understand the evolution and implications of AI step-by-step.\n",
      "3.  **Excellent Use of Headings and Subheadings:** The headings are descriptive and informative, allowing readers to quickly grasp the content of each section and navigate the post easily. The subheadings within \"The Seamless Integration\" section are particularly effective for breaking down the future vision into manageable, thematic chunks.\n",
      "4.  **Bullet Points for Readability:** The consistent use of bullet points for examples (AI Today), benefits, challenges, and navigation strategies significantly enhances readability and scannability. This makes dense information digestible and easy to absorb.\n",
      "5.  **Concrete Examples:** The post provides numerous concrete and relatable examples, both for current AI applications (Siri, Netflix, Google Maps, ChatGPT) and future possibilities (proactive AI assistants, AI-powered sleep trackers, adaptive learning platforms). These examples ground the abstract concept of AI in everyday experiences, making it much clearer.\n",
      "6.  **Accessible Language:** The language used is straightforward and avoids overly technical terms. When a concept could be complex, it's explained simply (\"For the layman, think of it as a set of technologies...\").\n",
      "7.  **Balanced Perspective:** By presenting both the \"Promise\" and \"Perils,\" the post offers a clear, nuanced view of AI, demonstrating a comprehensive understanding of its multifaceted nature.\n",
      "\n",
      "### Engagement\n",
      "\n",
      "The blog post is highly engaging, successfully capturing and holding the reader's attention throughout.\n",
      "\n",
      "1.  **Compelling Hook:** Starting with \"Remember when voice assistants felt like magic...\" immediately connects with the reader's personal experience and curiosity, drawing them into the topic.\n",
      "2.  **Relatability:** The central theme of \"Everyday Life: Into Your Home and Hand\" makes the content incredibly relevant. Readers can easily see how AI affects them personally, fostering a sense of involvement.\n",
      "3.  **Conversational Tone:** The writing maintains a friendly, slightly informal yet authoritative tone (\"That was just the prelude,\" \"The truth is,\" \"Imagine a world...\"). This makes the post feel like a conversation rather than a dry academic paper.\n",
      "4.  **Anticipation and Vision:** The post masterfully builds anticipation by first showing what AI is *now*, then painting vivid pictures of what it *will be* in various domains. This forward-looking perspective keeps the reader invested in the future possibilities.\n",
      "5.  **Rhetorical Questions:** The use of rhetorical questions (\"But what exactly *is* AI?\", \"What kind of AI-powered everyday life do we want to create?\") prompts readers to think actively and engage with the material on a deeper level.\n",
      "6.  **Strategic Pacing:** The content moves from a broad overview to specific examples, then to future visions, and finally to a balanced discussion of benefits and challenges. This pacing keeps the narrative fresh and prevents monotony.\n",
      "7.  **Visual Language:** Phrases like \"quiet architect,\" \"seamlessly weaving into the tapestry,\" and \"invisible, yet indispensable layer\" add a touch of imagery that makes the writing more vibrant and memorable.\n",
      "8.  **Comprehensive Yet Digestible:** Despite its length, the excellent structure and frequent use of bullet points prevent the reader from feeling overwhelmed. Each section offers a complete thought, encouraging continued reading.\n",
      "9.  **Empowering Conclusion:** The conclusion shifts from informing to empowering, emphasizing that \"the future isn't just happening to us; we are actively building it.\" This call to action encourages readers to remain engaged and participate in the ongoing discourse about AI.\n",
      "\n",
      "### Suggestions for Improvement (Minor)\n",
      "\n",
      "While the post is excellent, here are a few very minor suggestions that could potentially enhance it further:\n",
      "\n",
      "*   **A Catchier Image:** While not part of the text, a strong, relevant hero image at the top of the blog post could immediately capture attention and visually reinforce the theme.\n",
      "*   **Small Anecdotes:** Occasionally interspersing a very short, real-world anecdote (e.g., \"I once used Google Maps to avoid a traffic jam predicted by AI...\") could add a personal touch and further ground the examples. However, the current examples are already very effective.\n",
      "*   **Interactive Elements (if applicable to platform):** For a blog, consider if the platform allows for simple polls (\"Which AI application are you most excited/concerned about?\") or comment prompts to directly encourage reader interaction.\n",
      "\n",
      "### Conclusion\n",
      "\n",
      "This blog content is **outstanding** in both clarity and engagement. It successfully demystifies artificial intelligence for a broad audience, presenting its current state, future potential, benefits, and challenges in a highly organized, accessible, and thought-provoking manner. The author's ability to balance optimism with caution, coupled with a clear, conversational writing style, makes this a compelling and informative read. It effectively achieves its goal of moving \"Beyond the Hype, Into Your Home and Hand.\"\n"
     ]
    }
   ],
   "source": [
    "print(final_state[\"evaluation\"])"
   ]
  },
  {
   "cell_type": "code",
   "execution_count": null,
   "id": "1f693603",
   "metadata": {},
   "outputs": [],
   "source": []
  }
 ],
 "metadata": {
  "kernelspec": {
   "display_name": "myenv",
   "language": "python",
   "name": "python3"
  },
  "language_info": {
   "codemirror_mode": {
    "name": "ipython",
    "version": 3
   },
   "file_extension": ".py",
   "mimetype": "text/x-python",
   "name": "python",
   "nbconvert_exporter": "python",
   "pygments_lexer": "ipython3",
   "version": "3.10.0"
  }
 },
 "nbformat": 4,
 "nbformat_minor": 5
}
